{
 "cells": [
  {
   "cell_type": "markdown",
   "metadata": {},
   "source": [
    "## Meals Recommendations based on Ratings"
   ]
  },
  {
   "cell_type": "markdown",
   "metadata": {},
   "source": [
    "To recommend new meals to customers based on the other customers likings for a Food Delivery Company.\n",
    "\n",
    "Final result should be in the form of a function that can take in a Spark DataFrame of a single customer's ratings for various meals and output their top 3 suggested meals"
   ]
  },
  {
   "cell_type": "code",
   "execution_count": 42,
   "metadata": {},
   "outputs": [],
   "source": [
    "# Initialize pyspark\n",
    "import findspark\n",
    "findspark.init()\n",
    "import pyspark"
   ]
  },
  {
   "cell_type": "code",
   "execution_count": 43,
   "metadata": {},
   "outputs": [],
   "source": [
    "# Initialize and create ba spark session\n",
    "from pyspark.sql import SparkSession\n",
    "spark = SparkSession.builder.appName('meals').getOrCreate()"
   ]
  },
  {
   "cell_type": "code",
   "execution_count": 44,
   "metadata": {},
   "outputs": [],
   "source": [
    "# Using Spark to read the meals data set.\n",
    "data = spark.read.csv('Meal_Info.csv', header=True, inferSchema=True)"
   ]
  },
  {
   "cell_type": "code",
   "execution_count": 45,
   "metadata": {},
   "outputs": [
    {
     "name": "stdout",
     "output_type": "stream",
     "text": [
      "+-------+------+------+--------+---------------------+\n",
      "|movieId|rating|userId|mealskew|meal_name            |\n",
      "+-------+------+------+--------+---------------------+\n",
      "|2      |3.0   |0     |2.0     |Chicken Curry        |\n",
      "|3      |1.0   |0     |3.0     |Spicy Chicken Nuggest|\n",
      "|5      |2.0   |0     |5.0     |Hamburger            |\n",
      "|9      |4.0   |0     |9.0     |Taco Surprise        |\n",
      "|11     |1.0   |0     |11.0    |Meatloaf             |\n",
      "+-------+------+------+--------+---------------------+\n",
      "only showing top 5 rows\n",
      "\n"
     ]
    }
   ],
   "source": [
    "# Printing the first few rows of the dataframe\n",
    "data.show(5, truncate=False)"
   ]
  },
  {
   "cell_type": "code",
   "execution_count": 46,
   "metadata": {},
   "outputs": [
    {
     "name": "stdout",
     "output_type": "stream",
     "text": [
      "root\n",
      " |-- movieId: integer (nullable = true)\n",
      " |-- rating: double (nullable = true)\n",
      " |-- userId: integer (nullable = true)\n",
      " |-- mealskew: double (nullable = true)\n",
      " |-- meal_name: string (nullable = true)\n",
      "\n"
     ]
    }
   ],
   "source": [
    "#Printing the schema of the dataframe\n",
    "data.printSchema()"
   ]
  },
  {
   "cell_type": "code",
   "execution_count": 47,
   "metadata": {},
   "outputs": [
    {
     "data": {
      "text/plain": [
       "1501"
      ]
     },
     "execution_count": 47,
     "metadata": {},
     "output_type": "execute_result"
    }
   ],
   "source": [
    "data.count()"
   ]
  },
  {
   "cell_type": "code",
   "execution_count": 48,
   "metadata": {},
   "outputs": [],
   "source": [
    "#Dropping the null values\n",
    "filtered_data = data.na.drop()"
   ]
  },
  {
   "cell_type": "code",
   "execution_count": 49,
   "metadata": {},
   "outputs": [
    {
     "data": {
      "text/plain": [
       "486"
      ]
     },
     "execution_count": 49,
     "metadata": {},
     "output_type": "execute_result"
    }
   ],
   "source": [
    "filtered_data.count()"
   ]
  },
  {
   "cell_type": "code",
   "execution_count": 50,
   "metadata": {},
   "outputs": [],
   "source": [
    "#Since the dataset is smaller, we can use 80% and 20% for train-test splits\n",
    "train_data,test_data = filtered_data.randomSplit([0.8,0.2])"
   ]
  },
  {
   "cell_type": "code",
   "execution_count": 51,
   "metadata": {},
   "outputs": [
    {
     "name": "stdout",
     "output_type": "stream",
     "text": [
      "+-------+-----------------+----------------+-----------------+-----------------+-------------------+\n",
      "|summary|          movieId|          rating|           userId|         mealskew|          meal_name|\n",
      "+-------+-----------------+----------------+-----------------+-----------------+-------------------+\n",
      "|  count|              400|             400|              400|              400|                400|\n",
      "|   mean|           15.415|          1.7325|          14.3125|           15.415|               null|\n",
      "| stddev|9.262681478407114|1.17233941298931|8.552350583392446|9.262681478407114|               null|\n",
      "|    min|                0|             1.0|                0|              0.0|           BBQ Ribs|\n",
      "|    max|               31|             5.0|               29|             31.0|Vietnamese Sandwich|\n",
      "+-------+-----------------+----------------+-----------------+-----------------+-------------------+\n",
      "\n"
     ]
    }
   ],
   "source": [
    "train_data.describe().show()"
   ]
  },
  {
   "cell_type": "code",
   "execution_count": 52,
   "metadata": {},
   "outputs": [
    {
     "name": "stdout",
     "output_type": "stream",
     "text": [
      "+-------+------------------+------------------+------------------+------------------+-------------------+\n",
      "|summary|           movieId|            rating|            userId|          mealskew|          meal_name|\n",
      "+-------+------------------+------------------+------------------+------------------+-------------------+\n",
      "|  count|                86|                86|                86|                86|                 86|\n",
      "|   mean|15.906976744186046| 1.755813953488372|15.186046511627907|15.906976744186046|               null|\n",
      "| stddev| 9.237554943849009|1.2265307028278907| 8.612592187375789| 9.237554943849009|               null|\n",
      "|    min|                 0|               1.0|                 0|               0.0|           BBQ Ribs|\n",
      "|    max|                31|               5.0|                29|              31.0|Vietnamese Sandwich|\n",
      "+-------+------------------+------------------+------------------+------------------+-------------------+\n",
      "\n"
     ]
    }
   ],
   "source": [
    "test_data.describe().show()"
   ]
  },
  {
   "cell_type": "code",
   "execution_count": 53,
   "metadata": {},
   "outputs": [],
   "source": [
    "# Setting up Recommender system\n",
    "from pyspark.ml.evaluation import RegressionEvaluator\n",
    "from pyspark.ml.recommendation import ALS"
   ]
  },
  {
   "cell_type": "code",
   "execution_count": 54,
   "metadata": {},
   "outputs": [],
   "source": [
    "# Build the recommendation model using ALS on the training data\n",
    "als = ALS(maxIter=5, regParam=0.01, userCol='userId', itemCol='mealskew', ratingCol='rating')"
   ]
  },
  {
   "cell_type": "code",
   "execution_count": 55,
   "metadata": {},
   "outputs": [],
   "source": [
    "model = als.fit(train_data)"
   ]
  },
  {
   "cell_type": "markdown",
   "metadata": {},
   "source": [
    "Now let's see how the model performed!"
   ]
  },
  {
   "cell_type": "code",
   "execution_count": 56,
   "metadata": {},
   "outputs": [],
   "source": [
    "#Getting the predictions on test data\n",
    "predictions = model.transform(test_data)"
   ]
  },
  {
   "cell_type": "code",
   "execution_count": 57,
   "metadata": {},
   "outputs": [
    {
     "name": "stdout",
     "output_type": "stream",
     "text": [
      "+-------+------+------+--------+-------------------+----------+\n",
      "|movieId|rating|userId|mealskew|          meal_name|prediction|\n",
      "+-------+------+------+--------+-------------------+----------+\n",
      "|     31|   1.0|    27|    31.0|       Chicken Wrap|-1.0234901|\n",
      "|     31|   1.0|    13|    31.0|       Chicken Wrap|0.68203694|\n",
      "|     28|   1.0|    23|    28.0|Penne Tomatoe Pasta| 2.9350235|\n",
      "|     26|   1.0|    22|    26.0|   Spicy Beef Plate|-0.5881107|\n",
      "+-------+------+------+--------+-------------------+----------+\n",
      "only showing top 4 rows\n",
      "\n"
     ]
    }
   ],
   "source": [
    "predictions.show(4)"
   ]
  },
  {
   "cell_type": "markdown",
   "metadata": {},
   "source": [
    "Evaluating the model by computing the RMSE on the test data"
   ]
  },
  {
   "cell_type": "code",
   "execution_count": 58,
   "metadata": {},
   "outputs": [],
   "source": [
    "evaluator = RegressionEvaluator(predictionCol='prediction', labelCol='rating', metricName='rmse')"
   ]
  },
  {
   "cell_type": "code",
   "execution_count": 59,
   "metadata": {},
   "outputs": [],
   "source": [
    "rmse = evaluator.evaluate(predictions)"
   ]
  },
  {
   "cell_type": "code",
   "execution_count": 60,
   "metadata": {},
   "outputs": [
    {
     "name": "stdout",
     "output_type": "stream",
     "text": [
      "Root Mean Squared Error: 2.309644960164883\n"
     ]
    }
   ],
   "source": [
    "print(\"Root Mean Squared Error:\",rmse)"
   ]
  },
  {
   "cell_type": "markdown",
   "metadata": {},
   "source": [
    "## Recommendation for a particular user"
   ]
  },
  {
   "cell_type": "code",
   "execution_count": 61,
   "metadata": {},
   "outputs": [],
   "source": [
    "single_user = test_data.select('userId','mealskew')"
   ]
  },
  {
   "cell_type": "code",
   "execution_count": 62,
   "metadata": {},
   "outputs": [
    {
     "name": "stdout",
     "output_type": "stream",
     "text": [
      "+------+-----+\n",
      "|userId|count|\n",
      "+------+-----+\n",
      "|    28|    2|\n",
      "|    26|    4|\n",
      "|    27|    2|\n",
      "|    12|    4|\n",
      "|    22|    2|\n",
      "|     1|    2|\n",
      "|    13|    3|\n",
      "|     6|    3|\n",
      "|    16|    4|\n",
      "|     3|    3|\n",
      "|    20|    2|\n",
      "|     5|    2|\n",
      "|    19|    2|\n",
      "|    15|    1|\n",
      "|    17|    3|\n",
      "|     9|    5|\n",
      "|     4|    5|\n",
      "|     8|    1|\n",
      "|    23|    3|\n",
      "|     7|    1|\n",
      "+------+-----+\n",
      "only showing top 20 rows\n",
      "\n"
     ]
    }
   ],
   "source": [
    "single_user.groupBy('userId').count().show()"
   ]
  },
  {
   "cell_type": "code",
   "execution_count": 63,
   "metadata": {},
   "outputs": [],
   "source": [
    "single_user = single_user.filter(\"userId == 26\")"
   ]
  },
  {
   "cell_type": "code",
   "execution_count": 64,
   "metadata": {},
   "outputs": [],
   "source": [
    "recommendations = model.transform(single_user)"
   ]
  },
  {
   "cell_type": "code",
   "execution_count": 65,
   "metadata": {},
   "outputs": [
    {
     "name": "stdout",
     "output_type": "stream",
     "text": [
      "+------+--------+----------+\n",
      "|userId|mealskew|prediction|\n",
      "+------+--------+----------+\n",
      "|    26|    24.0| 2.0780482|\n",
      "|    26|     3.0| 1.6575247|\n",
      "|    26|    18.0| 1.3842776|\n",
      "+------+--------+----------+\n",
      "only showing top 3 rows\n",
      "\n"
     ]
    }
   ],
   "source": [
    "recommendations.orderBy('prediction', ascending=False).show(3)"
   ]
  },
  {
   "cell_type": "code",
   "execution_count": null,
   "metadata": {},
   "outputs": [],
   "source": [
    "#Closing the spark session\n",
    "spark.stop()"
   ]
  }
 ],
 "metadata": {
  "kernelspec": {
   "display_name": "Python 3",
   "language": "python",
   "name": "python3"
  },
  "language_info": {
   "codemirror_mode": {
    "name": "ipython",
    "version": 3
   },
   "file_extension": ".py",
   "mimetype": "text/x-python",
   "name": "python",
   "nbconvert_exporter": "python",
   "pygments_lexer": "ipython3",
   "version": "3.7.0"
  }
 },
 "nbformat": 4,
 "nbformat_minor": 2
}
