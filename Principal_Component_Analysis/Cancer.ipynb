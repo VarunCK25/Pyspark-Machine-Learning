{
 "cells": [
  {
   "cell_type": "markdown",
   "metadata": {},
   "source": [
    "# Cancer Diagnosis"
   ]
  },
  {
   "cell_type": "markdown",
   "metadata": {},
   "source": [
    " __<h3>DATASET DESCRIPTION__\n",
    " \n",
    " \n",
    " Here is a description of the dataset we will be using:\n",
    "\n",
    " Breast Cancer Wisconsin (Diagnostic) Database\n",
    "\n",
    " Notes\n",
    " -----\n",
    " Data Set Characteristics:\n",
    "     :Number of Instances: 569\n",
    "\n",
    "     :Number of Attributes: 30 numeric, predictive attributes and the class\n",
    "\n",
    "     :Attribute Information:\n",
    "         - radius (mean of distances from center to points on the perimeter)\n",
    "         - texture (standard deviation of gray-scale values)\n",
    "         - perimeter\n",
    "         - area\n",
    "         - smoothness (local variation in radius lengths)\n",
    "         - compactness (perimeter^2 / area - 1.0)\n",
    "         - concavity (severity of concave portions of the contour)\n",
    "         - concave points (number of concave portions of the contour)\n",
    "         - symmetry\n",
    "         - fractal dimension (\"coastline approximation\" - 1)\n",
    "\n",
    "         The mean, standard error, and \"worst\" or largest (mean of the three\n",
    "         largest values) of these features were computed for each image,\n",
    "         resulting in 30 features.  For instance, field 3 is Mean Radius, field\n",
    "         13 is Radius SE, field 23 is Worst Radius.\n",
    "\n",
    "         - class:\n",
    "                 - WDBC-Malignant\n",
    "                 - WDBC-Benign\n",
    "\n",
    "     :Summary Statistics:\n",
    "\n",
    "     ===================================== ======= ========\n",
    "                                            Min     Max\n",
    "     ===================================== ======= ========\n",
    "     radius (mean):                         6.981   28.11\n",
    "     texture (mean):                        9.71    39.28\n",
    "     perimeter (mean):                      43.79   188.5\n",
    "     area (mean):                           143.5   2501.0\n",
    "     smoothness (mean):                     0.053   0.163\n",
    "     compactness (mean):                    0.019   0.345\n",
    "     concavity (mean):                      0.0     0.427\n",
    "     concave points (mean):                 0.0     0.201\n",
    "     symmetry (mean):                       0.106   0.304\n",
    "     fractal dimension (mean):              0.05    0.097\n",
    "     radius (standard error):               0.112   2.873\n",
    "     texture (standard error):              0.36    4.885\n",
    "     perimeter (standard error):            0.757   21.98\n",
    "     area (standard error):                 6.802   542.2\n",
    "     smoothness (standard error):           0.002   0.031\n",
    "     compactness (standard error):          0.002   0.135\n",
    "     concavity (standard error):            0.0     0.396\n",
    "     concave points (standard error):       0.0     0.053\n",
    "     symmetry (standard error):             0.008   0.079\n",
    "     fractal dimension (standard error):    0.001   0.03\n",
    "     radius (worst):                        7.93    36.04\n",
    "     texture (worst):                       12.02   49.54\n",
    "     perimeter (worst):                     50.41   251.2\n",
    "     area (worst):                          185.2   4254.0\n",
    "     smoothness (worst):                    0.071   0.223\n",
    "     compactness (worst):                   0.027   1.058\n",
    "     concavity (worst):                     0.0     1.252\n",
    "     concave points (worst):                0.0     0.291\n",
    "     symmetry (worst):                      0.156   0.664\n",
    "     fractal dimension (worst):             0.055   0.208\n",
    "     ===================================== ======= ========\n",
    "\n",
    "     :Missing Attribute Values: None\n",
    "\n",
    "     :Class Distribution: 212 - Malignant, 357 - Benign\n",
    "\n",
    "     :Creator:  Dr. William H. Wolberg, W. Nick Street, Olvi L. Mangasarian\n",
    "\n",
    "     :Donor: Nick Street\n",
    "\n",
    "     :Date: November, 1995\n"
   ]
  },
  {
   "cell_type": "code",
   "execution_count": 31,
   "metadata": {},
   "outputs": [],
   "source": [
    "# Initialize pyspark\n",
    "import findspark\n",
    "findspark.init()\n",
    "import pyspark"
   ]
  },
  {
   "cell_type": "code",
   "execution_count": 32,
   "metadata": {},
   "outputs": [],
   "source": [
    "# Initialize and create a spark session\n",
    "from pyspark.sql import SparkSession\n",
    "spark = SparkSession.builder.appName('cancer').getOrCreate()"
   ]
  },
  {
   "cell_type": "code",
   "execution_count": 33,
   "metadata": {},
   "outputs": [],
   "source": [
    "# Using Spark to read the cancer data set\n",
    "data = spark.read.csv('Cancer_Data', header=True, inferSchema=True)"
   ]
  },
  {
   "cell_type": "code",
   "execution_count": 34,
   "metadata": {},
   "outputs": [
    {
     "data": {
      "text/plain": [
       "Row(mean radius=0, mean texture=17.99, mean perimeter=10.38, mean area=122.8, mean smoothness=1001.0, mean compactness=0.1184, mean concavity=0.2776, mean concave points=0.3001, mean symmetry=0.1471, mean fractal dimension=0.2419, radius error=0.07871, texture error=1.095, perimeter error=0.9053, area error=8.589, smoothness error=153.4, compactness error=0.006399, concavity error=0.04904, concave points error=0.05373, symmetry error=0.01587, fractal dimension error=0.03003, worst radius=0.006193, worst texture=25.38, worst perimeter=17.33, worst area=184.6, worst smoothness=2019.0, worst compactness=0.1622, worst concavity=0.6656, worst concave points=0.7119, worst symmetry=0.2654, worst fractal dimension=0.4601)"
      ]
     },
     "execution_count": 34,
     "metadata": {},
     "output_type": "execute_result"
    }
   ],
   "source": [
    "# Printing the first row of the dataframe\n",
    "data.head()"
   ]
  },
  {
   "cell_type": "code",
   "execution_count": 35,
   "metadata": {},
   "outputs": [
    {
     "name": "stdout",
     "output_type": "stream",
     "text": [
      "root\n",
      " |-- mean radius: integer (nullable = true)\n",
      " |-- mean texture: double (nullable = true)\n",
      " |-- mean perimeter: double (nullable = true)\n",
      " |-- mean area: double (nullable = true)\n",
      " |-- mean smoothness: double (nullable = true)\n",
      " |-- mean compactness: double (nullable = true)\n",
      " |-- mean concavity: double (nullable = true)\n",
      " |-- mean concave points: double (nullable = true)\n",
      " |-- mean symmetry: double (nullable = true)\n",
      " |-- mean fractal dimension: double (nullable = true)\n",
      " |-- radius error: double (nullable = true)\n",
      " |-- texture error: double (nullable = true)\n",
      " |-- perimeter error: double (nullable = true)\n",
      " |-- area error: double (nullable = true)\n",
      " |-- smoothness error: double (nullable = true)\n",
      " |-- compactness error: double (nullable = true)\n",
      " |-- concavity error: double (nullable = true)\n",
      " |-- concave points error: double (nullable = true)\n",
      " |-- symmetry error: double (nullable = true)\n",
      " |-- fractal dimension error: double (nullable = true)\n",
      " |-- worst radius: double (nullable = true)\n",
      " |-- worst texture: double (nullable = true)\n",
      " |-- worst perimeter: double (nullable = true)\n",
      " |-- worst area: double (nullable = true)\n",
      " |-- worst smoothness: double (nullable = true)\n",
      " |-- worst compactness: double (nullable = true)\n",
      " |-- worst concavity: double (nullable = true)\n",
      " |-- worst concave points: double (nullable = true)\n",
      " |-- worst symmetry: double (nullable = true)\n",
      " |-- worst fractal dimension: double (nullable = true)\n",
      "\n"
     ]
    }
   ],
   "source": [
    "# Printing the schema of the dataframe\n",
    "data.printSchema()"
   ]
  },
  {
   "cell_type": "markdown",
   "metadata": {},
   "source": [
    "##### Setting up PCA"
   ]
  },
  {
   "cell_type": "code",
   "execution_count": 36,
   "metadata": {},
   "outputs": [],
   "source": [
    "from pyspark.ml.feature import PCA, StandardScaler, VectorAssembler\n",
    "from pyspark.ml.linalg import Vectors"
   ]
  },
  {
   "cell_type": "markdown",
   "metadata": {},
   "source": [
    "Useing VectorAssembler to convert the input columns of the cancer data to a single output column of an array called \"features\""
   ]
  },
  {
   "cell_type": "code",
   "execution_count": 37,
   "metadata": {},
   "outputs": [
    {
     "data": {
      "text/plain": [
       "30"
      ]
     },
     "execution_count": 37,
     "metadata": {},
     "output_type": "execute_result"
    }
   ],
   "source": [
    "len(data.columns)"
   ]
  },
  {
   "cell_type": "code",
   "execution_count": 38,
   "metadata": {},
   "outputs": [],
   "source": [
    "assembler = VectorAssembler(inputCols=data.columns, outputCol='features')"
   ]
  },
  {
   "cell_type": "code",
   "execution_count": 39,
   "metadata": {},
   "outputs": [],
   "source": [
    "output = assembler.transform(data)"
   ]
  },
  {
   "cell_type": "code",
   "execution_count": 40,
   "metadata": {},
   "outputs": [
    {
     "name": "stdout",
     "output_type": "stream",
     "text": [
      "root\n",
      " |-- mean radius: integer (nullable = true)\n",
      " |-- mean texture: double (nullable = true)\n",
      " |-- mean perimeter: double (nullable = true)\n",
      " |-- mean area: double (nullable = true)\n",
      " |-- mean smoothness: double (nullable = true)\n",
      " |-- mean compactness: double (nullable = true)\n",
      " |-- mean concavity: double (nullable = true)\n",
      " |-- mean concave points: double (nullable = true)\n",
      " |-- mean symmetry: double (nullable = true)\n",
      " |-- mean fractal dimension: double (nullable = true)\n",
      " |-- radius error: double (nullable = true)\n",
      " |-- texture error: double (nullable = true)\n",
      " |-- perimeter error: double (nullable = true)\n",
      " |-- area error: double (nullable = true)\n",
      " |-- smoothness error: double (nullable = true)\n",
      " |-- compactness error: double (nullable = true)\n",
      " |-- concavity error: double (nullable = true)\n",
      " |-- concave points error: double (nullable = true)\n",
      " |-- symmetry error: double (nullable = true)\n",
      " |-- fractal dimension error: double (nullable = true)\n",
      " |-- worst radius: double (nullable = true)\n",
      " |-- worst texture: double (nullable = true)\n",
      " |-- worst perimeter: double (nullable = true)\n",
      " |-- worst area: double (nullable = true)\n",
      " |-- worst smoothness: double (nullable = true)\n",
      " |-- worst compactness: double (nullable = true)\n",
      " |-- worst concavity: double (nullable = true)\n",
      " |-- worst concave points: double (nullable = true)\n",
      " |-- worst symmetry: double (nullable = true)\n",
      " |-- worst fractal dimension: double (nullable = true)\n",
      " |-- features: vector (nullable = true)\n",
      "\n"
     ]
    }
   ],
   "source": [
    "output.printSchema()"
   ]
  },
  {
   "cell_type": "markdown",
   "metadata": {},
   "source": [
    "Often its a good idea to normalize each feature to have unit standard deviation and/or zero mean, when using PCA. This is essentially a pre-step to PCA, but its not always necessary."
   ]
  },
  {
   "cell_type": "code",
   "execution_count": 41,
   "metadata": {},
   "outputs": [],
   "source": [
    "#Using standard scaler to normalize the data\n",
    "\n",
    "scaler = StandardScaler(inputCol='features', outputCol='scaled_features', withStd=True, withMean=False)"
   ]
  },
  {
   "cell_type": "code",
   "execution_count": 42,
   "metadata": {},
   "outputs": [],
   "source": [
    "scaler_model = scaler.fit(output)"
   ]
  },
  {
   "cell_type": "code",
   "execution_count": 43,
   "metadata": {},
   "outputs": [],
   "source": [
    "scaled_data = scaler_model.transform(output)"
   ]
  },
  {
   "cell_type": "code",
   "execution_count": 44,
   "metadata": {},
   "outputs": [
    {
     "name": "stdout",
     "output_type": "stream",
     "text": [
      "root\n",
      " |-- mean radius: integer (nullable = true)\n",
      " |-- mean texture: double (nullable = true)\n",
      " |-- mean perimeter: double (nullable = true)\n",
      " |-- mean area: double (nullable = true)\n",
      " |-- mean smoothness: double (nullable = true)\n",
      " |-- mean compactness: double (nullable = true)\n",
      " |-- mean concavity: double (nullable = true)\n",
      " |-- mean concave points: double (nullable = true)\n",
      " |-- mean symmetry: double (nullable = true)\n",
      " |-- mean fractal dimension: double (nullable = true)\n",
      " |-- radius error: double (nullable = true)\n",
      " |-- texture error: double (nullable = true)\n",
      " |-- perimeter error: double (nullable = true)\n",
      " |-- area error: double (nullable = true)\n",
      " |-- smoothness error: double (nullable = true)\n",
      " |-- compactness error: double (nullable = true)\n",
      " |-- concavity error: double (nullable = true)\n",
      " |-- concave points error: double (nullable = true)\n",
      " |-- symmetry error: double (nullable = true)\n",
      " |-- fractal dimension error: double (nullable = true)\n",
      " |-- worst radius: double (nullable = true)\n",
      " |-- worst texture: double (nullable = true)\n",
      " |-- worst perimeter: double (nullable = true)\n",
      " |-- worst area: double (nullable = true)\n",
      " |-- worst smoothness: double (nullable = true)\n",
      " |-- worst compactness: double (nullable = true)\n",
      " |-- worst concavity: double (nullable = true)\n",
      " |-- worst concave points: double (nullable = true)\n",
      " |-- worst symmetry: double (nullable = true)\n",
      " |-- worst fractal dimension: double (nullable = true)\n",
      " |-- features: vector (nullable = true)\n",
      " |-- scaled_features: vector (nullable = true)\n",
      "\n"
     ]
    }
   ],
   "source": [
    "scaled_data.printSchema()"
   ]
  },
  {
   "cell_type": "markdown",
   "metadata": {},
   "source": [
    "##### PCA"
   ]
  },
  {
   "cell_type": "code",
   "execution_count": 45,
   "metadata": {},
   "outputs": [],
   "source": [
    "pca = PCA(inputCol='scaled_features', outputCol='pca_features', k=4)"
   ]
  },
  {
   "cell_type": "code",
   "execution_count": 46,
   "metadata": {},
   "outputs": [],
   "source": [
    "pca_model = pca.fit(scaled_data)"
   ]
  },
  {
   "cell_type": "code",
   "execution_count": 47,
   "metadata": {},
   "outputs": [],
   "source": [
    "pcaDF = pca_model.transform(scaled_data)"
   ]
  },
  {
   "cell_type": "code",
   "execution_count": 48,
   "metadata": {},
   "outputs": [],
   "source": [
    "results = pcaDF.select('pca_features')"
   ]
  },
  {
   "cell_type": "markdown",
   "metadata": {},
   "source": [
    "Using head() to confirm that your output column Array of pcaFeatures whi9ch should have only has 4 principal components"
   ]
  },
  {
   "cell_type": "code",
   "execution_count": 49,
   "metadata": {},
   "outputs": [
    {
     "data": {
      "text/plain": [
       "Row(pca_features=DenseVector([21.622, 8.5166, -3.7318, -0.4181]))"
      ]
     },
     "execution_count": 49,
     "metadata": {},
     "output_type": "execute_result"
    }
   ],
   "source": [
    "results.head()"
   ]
  },
  {
   "cell_type": "code",
   "execution_count": 50,
   "metadata": {},
   "outputs": [
    {
     "name": "stdout",
     "output_type": "stream",
     "text": [
      "+------------------------------------------------------------------------------+\n",
      "|pca_features                                                                  |\n",
      "+------------------------------------------------------------------------------+\n",
      "|[21.62199738236476,8.516595739466684,-3.7318474175794782,-0.4181244970133412] |\n",
      "|[15.121737034758134,2.697138979042207,-2.3546461829874357,-2.59498897333438]  |\n",
      "|[18.432585609777654,5.697069543518227,-2.9058070696230303,-3.0552108608152326]|\n",
      "|[18.95495650289368,16.025442209800573,-5.934803967957989,-4.158068180951641]  |\n",
      "+------------------------------------------------------------------------------+\n",
      "only showing top 4 rows\n",
      "\n"
     ]
    }
   ],
   "source": [
    "results.show(4, truncate=False)"
   ]
  },
  {
   "cell_type": "code",
   "execution_count": null,
   "metadata": {},
   "outputs": [],
   "source": [
    "#Closing the spark session\n",
    "spark.stop()"
   ]
  }
 ],
 "metadata": {
  "kernelspec": {
   "display_name": "Python 3",
   "language": "python",
   "name": "python3"
  },
  "language_info": {
   "codemirror_mode": {
    "name": "ipython",
    "version": 3
   },
   "file_extension": ".py",
   "mimetype": "text/x-python",
   "name": "python",
   "nbconvert_exporter": "python",
   "pygments_lexer": "ipython3",
   "version": "3.7.0"
  }
 },
 "nbformat": 4,
 "nbformat_minor": 2
}
