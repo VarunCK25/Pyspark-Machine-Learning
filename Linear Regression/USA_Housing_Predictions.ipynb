{
 "cells": [
  {
   "cell_type": "markdown",
   "metadata": {},
   "source": [
    "# To examine the USA Housing dataset and to build a linear regression model which will predict the price of the house."
   ]
  },
  {
   "cell_type": "code",
   "execution_count": 33,
   "metadata": {},
   "outputs": [],
   "source": [
    "# Initialize pyspark\n",
    "import findspark\n",
    "findspark.init()\n",
    "import pyspark"
   ]
  },
  {
   "cell_type": "code",
   "execution_count": 34,
   "metadata": {},
   "outputs": [],
   "source": [
    "# Initialize and create ba spark session\n",
    "from pyspark.sql import SparkSession\n",
    "spark = SparkSession.builder.appName('USA_Housing').getOrCreate()"
   ]
  },
  {
   "cell_type": "code",
   "execution_count": 35,
   "metadata": {},
   "outputs": [],
   "source": [
    "# Import statements to setup ML\n",
    "from pyspark.ml.regression import LinearRegression\n",
    "from pyspark.ml.feature import VectorAssembler\n",
    "from pyspark.ml.linalg import Vectors"
   ]
  },
  {
   "cell_type": "code",
   "execution_count": 36,
   "metadata": {},
   "outputs": [],
   "source": [
    "# Using Spark to read in the Ecommerce Customers csv file\n",
    "data = spark.read.csv('USA_Housing.csv', header=True, inferSchema=True)"
   ]
  },
  {
   "cell_type": "code",
   "execution_count": 37,
   "metadata": {},
   "outputs": [
    {
     "data": {
      "text/plain": [
       "Row(Avg Area Income=79545.45857431678, Avg Area House Age=5.682861321615587, Avg Area Number of Rooms=7.009188142792237, Avg Area Number of Bedrooms=4.09, Area Population=23086.800502686456, Price=1059033.5578701235)"
      ]
     },
     "execution_count": 37,
     "metadata": {},
     "output_type": "execute_result"
    }
   ],
   "source": [
    "# Printing the first row of the dataframe\n",
    "data.head()"
   ]
  },
  {
   "cell_type": "code",
   "execution_count": 38,
   "metadata": {},
   "outputs": [
    {
     "name": "stdout",
     "output_type": "stream",
     "text": [
      "root\n",
      " |-- Avg Area Income: double (nullable = true)\n",
      " |-- Avg Area House Age: double (nullable = true)\n",
      " |-- Avg Area Number of Rooms: double (nullable = true)\n",
      " |-- Avg Area Number of Bedrooms: double (nullable = true)\n",
      " |-- Area Population: double (nullable = true)\n",
      " |-- Price: double (nullable = true)\n",
      "\n"
     ]
    }
   ],
   "source": [
    "# Printing the schema of the dataframe\n",
    "data.printSchema()"
   ]
  },
  {
   "cell_type": "markdown",
   "metadata": {},
   "source": [
    "__Filtering the string columns and converting the dataframe to ML acceptable format\n",
    "             --->    i.e., (\"label\",\"features\")__"
   ]
  },
  {
   "cell_type": "code",
   "execution_count": 39,
   "metadata": {},
   "outputs": [],
   "source": [
    "assembler = VectorAssembler(inputCols=['Avg Area Income','Avg Area House Age','Avg Area Number of Rooms'\n",
    "                                ,'Avg Area Number of Bedrooms','Area Population'],outputCol='features')"
   ]
  },
  {
   "cell_type": "code",
   "execution_count": 40,
   "metadata": {},
   "outputs": [],
   "source": [
    "output = assembler.transform(data)"
   ]
  },
  {
   "cell_type": "code",
   "execution_count": 41,
   "metadata": {},
   "outputs": [
    {
     "data": {
      "text/plain": [
       "Row(Avg Area Income=79545.45857431678, Avg Area House Age=5.682861321615587, Avg Area Number of Rooms=7.009188142792237, Avg Area Number of Bedrooms=4.09, Area Population=23086.800502686456, Price=1059033.5578701235, features=DenseVector([79545.4586, 5.6829, 7.0092, 4.09, 23086.8005]))"
      ]
     },
     "execution_count": 41,
     "metadata": {},
     "output_type": "execute_result"
    }
   ],
   "source": [
    "output.head()"
   ]
  },
  {
   "cell_type": "code",
   "execution_count": 42,
   "metadata": {},
   "outputs": [],
   "source": [
    "final_data = output.select('Price','features')"
   ]
  },
  {
   "cell_type": "code",
   "execution_count": 43,
   "metadata": {},
   "outputs": [
    {
     "name": "stdout",
     "output_type": "stream",
     "text": [
      "+------------------+-------------------------------------------------------------------------------+\n",
      "|Price             |features                                                                       |\n",
      "+------------------+-------------------------------------------------------------------------------+\n",
      "|1059033.5578701235|[79545.45857431678,5.682861321615587,7.009188142792237,4.09,23086.800502686456]|\n",
      "|1505890.91484695  |[79248.64245482568,6.0028998082752425,6.730821019094919,3.09,40173.07217364482]|\n",
      "|1058987.9878760849|[61287.067178656784,5.865889840310001,8.512727430375099,5.13,36882.15939970458]|\n",
      "+------------------+-------------------------------------------------------------------------------+\n",
      "only showing top 3 rows\n",
      "\n"
     ]
    }
   ],
   "source": [
    "final_data.show(3, truncate=False)"
   ]
  },
  {
   "cell_type": "markdown",
   "metadata": {},
   "source": [
    "#Splitting the resultane data into training data and testing data\n",
    "#Training data is to train the model\n",
    "#Testing data is to test the builted model"
   ]
  },
  {
   "cell_type": "code",
   "execution_count": 44,
   "metadata": {},
   "outputs": [],
   "source": [
    "#Splitting the total data to 70% and 30% for training data and testing data respectively\n",
    "train_data,test_data = final_data.randomSplit([0.7,0.3])"
   ]
  },
  {
   "cell_type": "code",
   "execution_count": 45,
   "metadata": {},
   "outputs": [
    {
     "name": "stdout",
     "output_type": "stream",
     "text": [
      "+-------+------------------+\n",
      "|summary|             Price|\n",
      "+-------+------------------+\n",
      "|  count|              3526|\n",
      "|   mean|1236498.3398118548|\n",
      "| stddev| 351554.3120257839|\n",
      "|    min|15938.657923287848|\n",
      "|    max|2469065.5941747027|\n",
      "+-------+------------------+\n",
      "\n"
     ]
    }
   ],
   "source": [
    "train_data.describe().show()"
   ]
  },
  {
   "cell_type": "code",
   "execution_count": 46,
   "metadata": {},
   "outputs": [
    {
     "name": "stdout",
     "output_type": "stream",
     "text": [
      "+-------+------------------+\n",
      "|summary|             Price|\n",
      "+-------+------------------+\n",
      "|  count|              1474|\n",
      "|   mean|1221485.8375408286|\n",
      "| stddev| 356726.6971634834|\n",
      "|    min|143027.36445248185|\n",
      "|    max| 2330289.700683439|\n",
      "+-------+------------------+\n",
      "\n"
     ]
    }
   ],
   "source": [
    "test_data.describe().show()"
   ]
  },
  {
   "cell_type": "code",
   "execution_count": 47,
   "metadata": {},
   "outputs": [],
   "source": [
    "#Creating a linear regression model object\n",
    "lr = LinearRegression(labelCol='Price', featuresCol='features')"
   ]
  },
  {
   "cell_type": "code",
   "execution_count": 48,
   "metadata": {},
   "outputs": [],
   "source": [
    "# Creating a linear regression model and fitting the training data to it\n",
    "lrModel = lr.fit(train_data)"
   ]
  },
  {
   "cell_type": "markdown",
   "metadata": {},
   "source": [
    "__Getting the training summary of the created model__"
   ]
  },
  {
   "cell_type": "code",
   "execution_count": 49,
   "metadata": {},
   "outputs": [],
   "source": [
    "training_summary = lrModel.summary"
   ]
  },
  {
   "cell_type": "code",
   "execution_count": 50,
   "metadata": {},
   "outputs": [
    {
     "name": "stdout",
     "output_type": "stream",
     "text": [
      "+------------------+\n",
      "|         residuals|\n",
      "+------------------+\n",
      "|-53419.05389178065|\n",
      "|-76696.00407438986|\n",
      "|-69976.39531648408|\n",
      "+------------------+\n",
      "only showing top 3 rows\n",
      "\n"
     ]
    }
   ],
   "source": [
    "training_summary.residuals.show(3)"
   ]
  },
  {
   "cell_type": "code",
   "execution_count": 51,
   "metadata": {},
   "outputs": [
    {
     "name": "stdout",
     "output_type": "stream",
     "text": [
      "Mean Absolute Error:  79602.59809459849\n",
      "Mean Squared Error:  9852366846.36714\n",
      "Root Mean Squared Error:  99259.08948991593\n",
      "R Squared Error:  0.9202595095683607\n"
     ]
    }
   ],
   "source": [
    "print(\"Mean Absolute Error: \",training_summary.meanAbsoluteError)\n",
    "print(\"Mean Squared Error: \",training_summary.meanSquaredError)\n",
    "print(\"Root Mean Squared Error: \",training_summary.rootMeanSquaredError)\n",
    "print(\"R Squared Error: \",training_summary.r2)"
   ]
  },
  {
   "cell_type": "code",
   "execution_count": 52,
   "metadata": {},
   "outputs": [],
   "source": [
    "# Evaluating the model against test data\n",
    "test_results = lrModel.evaluate(test_data)"
   ]
  },
  {
   "cell_type": "code",
   "execution_count": 53,
   "metadata": {},
   "outputs": [
    {
     "name": "stdout",
     "output_type": "stream",
     "text": [
      "Coeffecients: [21.419771182355095,165460.09053620198,122259.79058743107,1328.1781826869992,15.091809751001747], Intercept: -2631923.368746153\n"
     ]
    }
   ],
   "source": [
    "# Getting the co-effecients and intercept\n",
    "print('Coeffecients: {}, Intercept: {}'.format(lrModel.coefficients,lrModel.intercept))"
   ]
  },
  {
   "cell_type": "code",
   "execution_count": 54,
   "metadata": {},
   "outputs": [
    {
     "name": "stdout",
     "output_type": "stream",
     "text": [
      "+-------------------+\n",
      "|          residuals|\n",
      "+-------------------+\n",
      "| 52175.880512381555|\n",
      "| -76631.90844711327|\n",
      "|-183476.56952701052|\n",
      "+-------------------+\n",
      "only showing top 3 rows\n",
      "\n"
     ]
    }
   ],
   "source": [
    "# Getting the residuals\n",
    "test_results.residuals.show(3)"
   ]
  },
  {
   "cell_type": "code",
   "execution_count": 55,
   "metadata": {},
   "outputs": [
    {
     "name": "stdout",
     "output_type": "stream",
     "text": [
      "Mean Absolute Error:  85641.8175008853\n",
      "Mean Squared Error:  11120702946.507998\n",
      "Root Mean Squared Error:  105454.74359415036\n",
      "R Squared Error:  0.9125508180589319\n"
     ]
    }
   ],
   "source": [
    "# Evaluating the model by checking the different types of error\n",
    "\n",
    "print(\"Mean Absolute Error: \",test_results.meanAbsoluteError)\n",
    "print(\"Mean Squared Error: \",test_results.meanSquaredError)\n",
    "print(\"Root Mean Squared Error: \",test_results.rootMeanSquaredError)\n",
    "print(\"R Squared Error: \",test_results.r2)"
   ]
  },
  {
   "cell_type": "markdown",
   "metadata": {},
   "source": [
    "__Getting the predictions from the builted model without label column__"
   ]
  },
  {
   "cell_type": "code",
   "execution_count": 56,
   "metadata": {},
   "outputs": [],
   "source": [
    "unlabelled_data = test_data.select('features')"
   ]
  },
  {
   "cell_type": "code",
   "execution_count": 57,
   "metadata": {},
   "outputs": [],
   "source": [
    "predictions = lrModel.transform(unlabelled_data)"
   ]
  },
  {
   "cell_type": "code",
   "execution_count": 58,
   "metadata": {},
   "outputs": [
    {
     "name": "stdout",
     "output_type": "stream",
     "text": [
      "+--------------------+------------------+\n",
      "|            features|        prediction|\n",
      "+--------------------+------------------+\n",
      "|[35963.3308090628...|  90851.4839401003|\n",
      "|[40366.6162912572...|228703.78319667373|\n",
      "|[48904.9832693168...|385374.65609950665|\n",
      "|[52588.6836452133...| 483264.5965482895|\n",
      "|[53562.4035410195...| 329356.9690686646|\n",
      "+--------------------+------------------+\n",
      "only showing top 5 rows\n",
      "\n"
     ]
    }
   ],
   "source": [
    "predictions.show(5)"
   ]
  },
  {
   "cell_type": "code",
   "execution_count": 59,
   "metadata": {},
   "outputs": [],
   "source": [
    "# Stopping the created spark session\n",
    "spark.stop()"
   ]
  }
 ],
 "metadata": {
  "kernelspec": {
   "display_name": "Python 3",
   "language": "python",
   "name": "python3"
  },
  "language_info": {
   "codemirror_mode": {
    "name": "ipython",
    "version": 3
   },
   "file_extension": ".py",
   "mimetype": "text/x-python",
   "name": "python",
   "nbconvert_exporter": "python",
   "pygments_lexer": "ipython3",
   "version": "3.7.0"
  }
 },
 "nbformat": 4,
 "nbformat_minor": 2
}
