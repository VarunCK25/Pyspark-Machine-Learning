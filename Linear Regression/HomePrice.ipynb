{
 "cells": [
  {
   "cell_type": "markdown",
   "metadata": {},
   "source": [
    "## Predicting the price of an house using Linear Regression Model and using One Hot Encoder for categorical columns"
   ]
  },
  {
   "cell_type": "code",
   "execution_count": 1,
   "metadata": {},
   "outputs": [],
   "source": [
    "# Initialize pyspark\n",
    "import findspark\n",
    "findspark.init()\n",
    "import pyspark"
   ]
  },
  {
   "cell_type": "code",
   "execution_count": 2,
   "metadata": {},
   "outputs": [],
   "source": [
    "# Initialize and create ba spark session\n",
    "from pyspark.sql import SparkSession\n",
    "spark = SparkSession.builder.appName('homeprice').getOrCreate()"
   ]
  },
  {
   "cell_type": "code",
   "execution_count": 3,
   "metadata": {},
   "outputs": [],
   "source": [
    "# Import statements to setup ML\n",
    "from pyspark.ml.regression import LinearRegression\n",
    "from pyspark.ml.feature import VectorAssembler, StringIndexer, OneHotEncoder\n",
    "from pyspark.ml.linalg import Vectors"
   ]
  },
  {
   "cell_type": "code",
   "execution_count": 4,
   "metadata": {},
   "outputs": [],
   "source": [
    "# Using Spark to read in the homeprices csv file\n",
    "data = spark.read.csv('homeprices.csv', header=True, inferSchema=True)"
   ]
  },
  {
   "cell_type": "code",
   "execution_count": 5,
   "metadata": {},
   "outputs": [
    {
     "name": "stdout",
     "output_type": "stream",
     "text": [
      "+---------------+----+------+\n",
      "|           town|area| price|\n",
      "+---------------+----+------+\n",
      "|monroe township|2600|550000|\n",
      "|monroe township|3000|565000|\n",
      "|monroe township|3200|610000|\n",
      "|monroe township|3600|680000|\n",
      "+---------------+----+------+\n",
      "only showing top 4 rows\n",
      "\n"
     ]
    }
   ],
   "source": [
    "# Printing the first few rows of the dataframe\n",
    "data.show(4)"
   ]
  },
  {
   "cell_type": "code",
   "execution_count": 6,
   "metadata": {},
   "outputs": [
    {
     "name": "stdout",
     "output_type": "stream",
     "text": [
      "root\n",
      " |-- town: string (nullable = true)\n",
      " |-- area: integer (nullable = true)\n",
      " |-- price: integer (nullable = true)\n",
      "\n"
     ]
    }
   ],
   "source": [
    "# Printing the schema of the dataframe\n",
    "data.printSchema()"
   ]
  },
  {
   "cell_type": "code",
   "execution_count": 7,
   "metadata": {},
   "outputs": [
    {
     "name": "stdout",
     "output_type": "stream",
     "text": [
      "+---------------+-----+\n",
      "|           town|count|\n",
      "+---------------+-----+\n",
      "|monroe township|    5|\n",
      "|   west windsor|    4|\n",
      "|    robinsville|    4|\n",
      "+---------------+-----+\n",
      "\n"
     ]
    }
   ],
   "source": [
    "data.groupBy('town').count().show()"
   ]
  },
  {
   "cell_type": "markdown",
   "metadata": {},
   "source": [
    "**Converting the categotical column 'town' from String type to Vector form**"
   ]
  },
  {
   "cell_type": "code",
   "execution_count": 8,
   "metadata": {},
   "outputs": [],
   "source": [
    "#Using String Indexer to convert categorical string columns to numerical type\n",
    "townIndexer = StringIndexer(inputCol='town', outputCol='townInd')"
   ]
  },
  {
   "cell_type": "code",
   "execution_count": 9,
   "metadata": {},
   "outputs": [],
   "source": [
    "#Using One Hot Encoder to convert categorical numeric type columns to Vector type\n",
    "townEncoder = OneHotEncoder(inputCol='townInd', outputCol='townVec')"
   ]
  },
  {
   "cell_type": "code",
   "execution_count": 10,
   "metadata": {},
   "outputs": [],
   "source": [
    "#Assembling all the features to a single vector column \"features\"\n",
    "assembler = VectorAssembler(inputCols=['townVec','area'], outputCol='features')"
   ]
  },
  {
   "cell_type": "markdown",
   "metadata": {},
   "source": [
    "__Splitting the resultant data into training data and testing data, Training data is to train the model, Testing data is to test the builted model__"
   ]
  },
  {
   "cell_type": "code",
   "execution_count": 11,
   "metadata": {},
   "outputs": [],
   "source": [
    "train_data,test_data = data.randomSplit([0.7,0.3])"
   ]
  },
  {
   "cell_type": "code",
   "execution_count": 12,
   "metadata": {},
   "outputs": [
    {
     "name": "stdout",
     "output_type": "stream",
     "text": [
      "+-------+---------------+------------------+------------------+\n",
      "|summary|           town|              area|             price|\n",
      "+-------+---------------+------------------+------------------+\n",
      "|  count|             10|                10|                10|\n",
      "|   mean|           null|            3150.0|          627500.0|\n",
      "| stddev|           null|467.26152562920623|58653.881182559235|\n",
      "|    min|monroe township|              2600|            550000|\n",
      "|    max|   west windsor|              4000|            725000|\n",
      "+-------+---------------+------------------+------------------+\n",
      "\n"
     ]
    }
   ],
   "source": [
    "train_data.describe().show()"
   ]
  },
  {
   "cell_type": "code",
   "execution_count": 13,
   "metadata": {},
   "outputs": [
    {
     "name": "stdout",
     "output_type": "stream",
     "text": [
      "+-------+---------------+------------------+-----------------+\n",
      "|summary|           town|              area|            price|\n",
      "+-------+---------------+------------------+-----------------+\n",
      "|  count|              3|                 3|                3|\n",
      "|   mean|           null|3133.3333333333335|         635000.0|\n",
      "| stddev|           null| 503.3222956847166|66143.78277661477|\n",
      "|    min|monroe township|              2600|           585000|\n",
      "|    max|   west windsor|              3600|           710000|\n",
      "+-------+---------------+------------------+-----------------+\n",
      "\n"
     ]
    }
   ],
   "source": [
    "test_data.describe().show()"
   ]
  },
  {
   "cell_type": "code",
   "execution_count": 14,
   "metadata": {},
   "outputs": [],
   "source": [
    "#Creating a Linear regression model object\n",
    "lr = LinearRegression(labelCol='price', featuresCol='features')"
   ]
  },
  {
   "cell_type": "code",
   "execution_count": 15,
   "metadata": {},
   "outputs": [],
   "source": [
    "#Setting Up the Pipeline\n",
    "from pyspark.ml import Pipeline"
   ]
  },
  {
   "cell_type": "code",
   "execution_count": 16,
   "metadata": {},
   "outputs": [],
   "source": [
    "pipeline = Pipeline(stages=[townIndexer,townEncoder,assembler,lr])"
   ]
  },
  {
   "cell_type": "code",
   "execution_count": 17,
   "metadata": {},
   "outputs": [],
   "source": [
    "#Fitting the pipeline to training set.\n",
    "model = pipeline.fit(train_data)"
   ]
  },
  {
   "cell_type": "code",
   "execution_count": 18,
   "metadata": {},
   "outputs": [],
   "source": [
    "#Getting Results on Test Set\n",
    "results = model.transform(test_data)"
   ]
  },
  {
   "cell_type": "code",
   "execution_count": 19,
   "metadata": {},
   "outputs": [
    {
     "name": "stdout",
     "output_type": "stream",
     "text": [
      "root\n",
      " |-- town: string (nullable = true)\n",
      " |-- area: integer (nullable = true)\n",
      " |-- price: integer (nullable = true)\n",
      " |-- townInd: double (nullable = false)\n",
      " |-- townVec: vector (nullable = true)\n",
      " |-- features: vector (nullable = true)\n",
      " |-- prediction: double (nullable = false)\n",
      "\n"
     ]
    }
   ],
   "source": [
    "results.printSchema()"
   ]
  },
  {
   "cell_type": "code",
   "execution_count": 20,
   "metadata": {},
   "outputs": [
    {
     "name": "stdout",
     "output_type": "stream",
     "text": [
      "+---------------+----+------+-----------------+\n",
      "|           town|area| price|       prediction|\n",
      "+---------------+----+------+-----------------+\n",
      "|monroe township|3200|610000| 617314.049586777|\n",
      "|   west windsor|2600|585000|575413.2231404963|\n",
      "|   west windsor|3600|710000|702272.7272727268|\n",
      "+---------------+----+------+-----------------+\n",
      "\n"
     ]
    }
   ],
   "source": [
    "results.select('town','area','price','prediction').show()"
   ]
  },
  {
   "cell_type": "markdown",
   "metadata": {},
   "source": [
    "## Evaluating the model"
   ]
  },
  {
   "cell_type": "code",
   "execution_count": 21,
   "metadata": {},
   "outputs": [],
   "source": [
    "output = model.transform(data)"
   ]
  },
  {
   "cell_type": "code",
   "execution_count": 22,
   "metadata": {},
   "outputs": [
    {
     "data": {
      "text/plain": [
       "13"
      ]
     },
     "execution_count": 22,
     "metadata": {},
     "output_type": "execute_result"
    }
   ],
   "source": [
    "output.count()"
   ]
  },
  {
   "cell_type": "code",
   "execution_count": 23,
   "metadata": {},
   "outputs": [
    {
     "name": "stdout",
     "output_type": "stream",
     "text": [
      "root\n",
      " |-- town: string (nullable = true)\n",
      " |-- area: integer (nullable = true)\n",
      " |-- price: integer (nullable = true)\n",
      " |-- townInd: double (nullable = false)\n",
      " |-- townVec: vector (nullable = true)\n",
      " |-- features: vector (nullable = true)\n",
      " |-- prediction: double (nullable = false)\n",
      "\n"
     ]
    }
   ],
   "source": [
    "output.printSchema()"
   ]
  },
  {
   "cell_type": "code",
   "execution_count": 24,
   "metadata": {},
   "outputs": [],
   "source": [
    "output = output.select('price','features')"
   ]
  },
  {
   "cell_type": "code",
   "execution_count": 25,
   "metadata": {},
   "outputs": [],
   "source": [
    "train_data_2,test_data_2 = output.randomSplit([0.7,0.3])"
   ]
  },
  {
   "cell_type": "code",
   "execution_count": 26,
   "metadata": {},
   "outputs": [],
   "source": [
    "#Creating a linear regression model object\n",
    "lr_2 = LinearRegression(labelCol='price', featuresCol='features')"
   ]
  },
  {
   "cell_type": "code",
   "execution_count": 27,
   "metadata": {},
   "outputs": [],
   "source": [
    "# Creating a linear regression model and fitting the training data to it\n",
    "lrModel = lr.fit(train_data_2)"
   ]
  },
  {
   "cell_type": "markdown",
   "metadata": {},
   "source": [
    "__Getting the training summary of the created model__"
   ]
  },
  {
   "cell_type": "code",
   "execution_count": 28,
   "metadata": {},
   "outputs": [],
   "source": [
    "training_summary = lrModel.summary"
   ]
  },
  {
   "cell_type": "code",
   "execution_count": 29,
   "metadata": {},
   "outputs": [
    {
     "name": "stdout",
     "output_type": "stream",
     "text": [
      "+-------------------+\n",
      "|          residuals|\n",
      "+-------------------+\n",
      "| 10631.188118812395|\n",
      "|-23873.762376237544|\n",
      "| 1881.1881188125117|\n",
      "+-------------------+\n",
      "only showing top 3 rows\n",
      "\n"
     ]
    }
   ],
   "source": [
    "training_summary.residuals.show(3)"
   ]
  },
  {
   "cell_type": "code",
   "execution_count": 30,
   "metadata": {},
   "outputs": [
    {
     "name": "stdout",
     "output_type": "stream",
     "text": [
      "Mean Absolute Error:  10214.521452145353\n",
      "Mean Squared Error:  156483773.3773375\n",
      "Root Mean Squared Error:  12509.347440108037\n",
      "R Squared Error:  0.9492586643572285\n"
     ]
    }
   ],
   "source": [
    "print(\"Mean Absolute Error: \",training_summary.meanAbsoluteError)\n",
    "print(\"Mean Squared Error: \",training_summary.meanSquaredError)\n",
    "print(\"Root Mean Squared Error: \",training_summary.rootMeanSquaredError)\n",
    "print(\"R Squared Error: \",training_summary.r2)"
   ]
  },
  {
   "cell_type": "code",
   "execution_count": 31,
   "metadata": {},
   "outputs": [],
   "source": [
    "# Evaluating the model against test data\n",
    "test_results_2 = lrModel.evaluate(test_data_2)"
   ]
  },
  {
   "cell_type": "code",
   "execution_count": 32,
   "metadata": {},
   "outputs": [
    {
     "name": "stdout",
     "output_type": "stream",
     "text": [
      "Coeffecients: [-40581.68316831663,-6831.6831683167375,123.76237623762493], Intercept: 258168.3168316794\n"
     ]
    }
   ],
   "source": [
    "# Getting the co-effecients and intercept\n",
    "print('Coeffecients: {}, Intercept: {}'.format(lrModel.coefficients,lrModel.intercept))"
   ]
  },
  {
   "cell_type": "code",
   "execution_count": 33,
   "metadata": {},
   "outputs": [
    {
     "name": "stdout",
     "output_type": "stream",
     "text": [
      "+-------------------+\n",
      "|          residuals|\n",
      "+-------------------+\n",
      "|  5049.504950495786|\n",
      "|-10247.524752474972|\n",
      "|           -15000.0|\n",
      "+-------------------+\n",
      "only showing top 3 rows\n",
      "\n"
     ]
    }
   ],
   "source": [
    "# Getting the residuals\n",
    "test_results_2.residuals.show(3)"
   ]
  },
  {
   "cell_type": "code",
   "execution_count": 34,
   "metadata": {},
   "outputs": [
    {
     "name": "stdout",
     "output_type": "stream",
     "text": [
      "Mean Absolute Error:  10665.222772277048\n",
      "Mean Squared Error:  127093583.04332224\n",
      "Root Mean Squared Error:  11273.57898110987\n",
      "R Squared Error:  0.9577235482600176\n"
     ]
    }
   ],
   "source": [
    "# Evaluating the model by checking the different types of error\n",
    "\n",
    "print(\"Mean Absolute Error: \",test_results_2.meanAbsoluteError)\n",
    "print(\"Mean Squared Error: \",test_results_2.meanSquaredError)\n",
    "print(\"Root Mean Squared Error: \",test_results_2.rootMeanSquaredError)\n",
    "print(\"R Squared Error: \",test_results_2.r2)"
   ]
  },
  {
   "cell_type": "markdown",
   "metadata": {},
   "source": [
    "__Getting the predictions from the builted model without label column__"
   ]
  },
  {
   "cell_type": "code",
   "execution_count": 35,
   "metadata": {},
   "outputs": [],
   "source": [
    "unlabelled_data = test_data_2.select('features')"
   ]
  },
  {
   "cell_type": "code",
   "execution_count": 36,
   "metadata": {},
   "outputs": [],
   "source": [
    "predictions = lrModel.transform(unlabelled_data)"
   ]
  },
  {
   "cell_type": "code",
   "execution_count": 37,
   "metadata": {},
   "outputs": [
    {
     "name": "stdout",
     "output_type": "stream",
     "text": [
      "+----------------+-----------------+\n",
      "|        features|       prediction|\n",
      "+----------------+-----------------+\n",
      "|[0.0,0.0,2600.0]|579950.4950495042|\n",
      "|[0.0,1.0,2900.0]| 610247.524752475|\n",
      "|[0.0,1.0,3100.0]|         635000.0|\n",
      "|[1.0,0.0,4000.0]|712636.1386138626|\n",
      "+----------------+-----------------+\n",
      "\n"
     ]
    }
   ],
   "source": [
    "predictions.show(5)"
   ]
  },
  {
   "cell_type": "code",
   "execution_count": null,
   "metadata": {},
   "outputs": [],
   "source": [
    "#Closing spark session\n",
    "spark.stop()"
   ]
  }
 ],
 "metadata": {
  "kernelspec": {
   "display_name": "Python 3",
   "language": "python",
   "name": "python3"
  },
  "language_info": {
   "codemirror_mode": {
    "name": "ipython",
    "version": 3
   },
   "file_extension": ".py",
   "mimetype": "text/x-python",
   "name": "python",
   "nbconvert_exporter": "python",
   "pygments_lexer": "ipython3",
   "version": "3.7.0"
  }
 },
 "nbformat": 4,
 "nbformat_minor": 2
}
