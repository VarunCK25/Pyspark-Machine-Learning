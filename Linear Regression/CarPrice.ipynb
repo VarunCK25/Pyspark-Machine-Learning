{
 "cells": [
  {
   "cell_type": "code",
   "execution_count": 58,
   "metadata": {},
   "outputs": [],
   "source": [
    "# Initialize pyspark\n",
    "import findspark\n",
    "findspark.init()\n",
    "import pyspark"
   ]
  },
  {
   "cell_type": "code",
   "execution_count": 59,
   "metadata": {},
   "outputs": [],
   "source": [
    "# Initialize and create ba spark session\n",
    "from pyspark.sql import SparkSession\n",
    "spark = SparkSession.builder.appName('carprice').getOrCreate()"
   ]
  },
  {
   "cell_type": "code",
   "execution_count": 60,
   "metadata": {},
   "outputs": [],
   "source": [
    "# Import statements to setup ML\n",
    "from pyspark.ml.regression import LinearRegression\n",
    "from pyspark.ml.feature import VectorAssembler, StringIndexer, OneHotEncoder\n",
    "from pyspark.ml.linalg import Vectors"
   ]
  },
  {
   "cell_type": "code",
   "execution_count": 61,
   "metadata": {},
   "outputs": [],
   "source": [
    "# Using Spark to read in the car prices csv file\n",
    "data = spark.read.csv('carprices.csv', header=True, inferSchema=True)"
   ]
  },
  {
   "cell_type": "code",
   "execution_count": 62,
   "metadata": {},
   "outputs": [
    {
     "name": "stdout",
     "output_type": "stream",
     "text": [
      "+---------+-------+-------------+--------+\n",
      "|Car Model|Mileage|Sell Price($)|Age(yrs)|\n",
      "+---------+-------+-------------+--------+\n",
      "|   BMW X5|  69000|        18000|       6|\n",
      "|   BMW X5|  35000|        34000|       3|\n",
      "|   BMW X5|  57000|        26100|       5|\n",
      "|   BMW X5|  22500|        40000|       2|\n",
      "+---------+-------+-------------+--------+\n",
      "only showing top 4 rows\n",
      "\n"
     ]
    }
   ],
   "source": [
    "# Printing the first few rows of the dataframe\n",
    "data.show(4)"
   ]
  },
  {
   "cell_type": "code",
   "execution_count": 63,
   "metadata": {},
   "outputs": [
    {
     "name": "stdout",
     "output_type": "stream",
     "text": [
      "root\n",
      " |-- Car Model: string (nullable = true)\n",
      " |-- Mileage: integer (nullable = true)\n",
      " |-- Sell Price($): integer (nullable = true)\n",
      " |-- Age(yrs): integer (nullable = true)\n",
      "\n"
     ]
    }
   ],
   "source": [
    "# Printing the schema of the dataframe\n",
    "data.printSchema()"
   ]
  },
  {
   "cell_type": "code",
   "execution_count": 64,
   "metadata": {},
   "outputs": [
    {
     "name": "stdout",
     "output_type": "stream",
     "text": [
      "+---------------------+-----+\n",
      "|Car Model            |count|\n",
      "+---------------------+-----+\n",
      "|BMW X5               |5    |\n",
      "|Audi A5              |4    |\n",
      "|Mercedez Benz C class|4    |\n",
      "+---------------------+-----+\n",
      "\n"
     ]
    }
   ],
   "source": [
    "data.groupBy('Car Model').count().show(truncate=False)"
   ]
  },
  {
   "cell_type": "markdown",
   "metadata": {},
   "source": [
    "**Converting the categotical column 'town' from String type to Vector form**"
   ]
  },
  {
   "cell_type": "code",
   "execution_count": 65,
   "metadata": {},
   "outputs": [],
   "source": [
    "#Using String Indexer to convert categorical string columns to numerical type\n",
    "carModelIndexer = StringIndexer(inputCol='Car Model', outputCol='carInd')"
   ]
  },
  {
   "cell_type": "code",
   "execution_count": 66,
   "metadata": {},
   "outputs": [],
   "source": [
    "#Using One Hot Encoder to convert categorical numeric type columns to Vector type\n",
    "carModelEncoder = OneHotEncoder(inputCol='carInd', outputCol='carVec')"
   ]
  },
  {
   "cell_type": "code",
   "execution_count": 67,
   "metadata": {},
   "outputs": [],
   "source": [
    "#Assembling all the features to a single vector column \"features\"\n",
    "assembler = VectorAssembler(inputCols=['Mileage','Age(yrs)','carVec'], outputCol='features')"
   ]
  },
  {
   "cell_type": "markdown",
   "metadata": {},
   "source": [
    "__Splitting the resultant data into training data and testing data, Training data is to train the model, Testing data is to test the builted model__"
   ]
  },
  {
   "cell_type": "code",
   "execution_count": 68,
   "metadata": {},
   "outputs": [],
   "source": [
    "train_data,test_data = data.randomSplit([0.7,0.3])"
   ]
  },
  {
   "cell_type": "code",
   "execution_count": 69,
   "metadata": {},
   "outputs": [
    {
     "name": "stdout",
     "output_type": "stream",
     "text": [
      "+-------+--------------------+------------------+-----------------+------------------+\n",
      "|summary|           Car Model|           Mileage|    Sell Price($)|          Age(yrs)|\n",
      "+-------+--------------------+------------------+-----------------+------------------+\n",
      "|  count|                  11|                11|               11|                11|\n",
      "|   mean|                null|60681.818181818184|26381.81818181818|5.2727272727272725|\n",
      "| stddev|                null|20890.515464287528|8666.581584663953|1.7939291563999449|\n",
      "|    min|             Audi A5|             22500|            12000|                 2|\n",
      "|    max|Mercedez Benz C c...|             91000|            40000|                 8|\n",
      "+-------+--------------------+------------------+-----------------+------------------+\n",
      "\n"
     ]
    }
   ],
   "source": [
    "train_data.describe().show()"
   ]
  },
  {
   "cell_type": "code",
   "execution_count": 70,
   "metadata": {},
   "outputs": [
    {
     "name": "stdout",
     "output_type": "stream",
     "text": [
      "+-------+--------------------+-----------------+-----------------+------------------+\n",
      "|summary|           Car Model|          Mileage|    Sell Price($)|          Age(yrs)|\n",
      "+-------+--------------------+-----------------+-----------------+------------------+\n",
      "|  count|                   2|                2|                2|                 2|\n",
      "|   mean|                null|          62000.0|          24050.0|               5.5|\n",
      "| stddev|                null|7071.067811865475|2899.137802864845|0.7071067811865476|\n",
      "|    min|              BMW X5|            57000|            22000|                 5|\n",
      "|    max|Mercedez Benz C c...|            67000|            26100|                 6|\n",
      "+-------+--------------------+-----------------+-----------------+------------------+\n",
      "\n"
     ]
    }
   ],
   "source": [
    "test_data.describe().show()"
   ]
  },
  {
   "cell_type": "code",
   "execution_count": 71,
   "metadata": {},
   "outputs": [],
   "source": [
    "#Creating a Linear regression model object\n",
    "lr = LinearRegression(labelCol='Sell Price($)', featuresCol='features')"
   ]
  },
  {
   "cell_type": "code",
   "execution_count": 72,
   "metadata": {},
   "outputs": [],
   "source": [
    "#Setting Up the Pipeline\n",
    "from pyspark.ml import Pipeline"
   ]
  },
  {
   "cell_type": "code",
   "execution_count": 73,
   "metadata": {},
   "outputs": [],
   "source": [
    "pipeline = Pipeline(stages=[carModelIndexer,carModelEncoder,assembler,lr])"
   ]
  },
  {
   "cell_type": "code",
   "execution_count": 74,
   "metadata": {},
   "outputs": [],
   "source": [
    "#Fitting the pipeline to training set.\n",
    "model = pipeline.fit(train_data)"
   ]
  },
  {
   "cell_type": "code",
   "execution_count": 75,
   "metadata": {},
   "outputs": [],
   "source": [
    "#Getting Results on Test Set\n",
    "results = model.transform(test_data)"
   ]
  },
  {
   "cell_type": "code",
   "execution_count": 76,
   "metadata": {},
   "outputs": [
    {
     "name": "stdout",
     "output_type": "stream",
     "text": [
      "root\n",
      " |-- Car Model: string (nullable = true)\n",
      " |-- Mileage: integer (nullable = true)\n",
      " |-- Sell Price($): integer (nullable = true)\n",
      " |-- Age(yrs): integer (nullable = true)\n",
      " |-- carInd: double (nullable = false)\n",
      " |-- carVec: vector (nullable = true)\n",
      " |-- features: vector (nullable = true)\n",
      " |-- prediction: double (nullable = false)\n",
      "\n"
     ]
    }
   ],
   "source": [
    "results.printSchema()"
   ]
  },
  {
   "cell_type": "code",
   "execution_count": 77,
   "metadata": {},
   "outputs": [
    {
     "name": "stdout",
     "output_type": "stream",
     "text": [
      "+---------------------+-------+--------+-------------+------------------+\n",
      "|Car Model            |Mileage|Age(yrs)|Sell Price($)|prediction        |\n",
      "+---------------------+-------+--------+-------------+------------------+\n",
      "|BMW X5               |57000  |5       |26100        |23953.277215549155|\n",
      "|Mercedez Benz C class|67000  |6       |22000        |28244.675115861515|\n",
      "+---------------------+-------+--------+-------------+------------------+\n",
      "\n"
     ]
    }
   ],
   "source": [
    "results.select('Car Model','Mileage','Age(yrs)','Sell Price($)','prediction').show(truncate=False)"
   ]
  },
  {
   "cell_type": "markdown",
   "metadata": {},
   "source": [
    "### Evaluating the model"
   ]
  },
  {
   "cell_type": "code",
   "execution_count": 78,
   "metadata": {},
   "outputs": [],
   "source": [
    "output = model.transform(data)"
   ]
  },
  {
   "cell_type": "code",
   "execution_count": 79,
   "metadata": {},
   "outputs": [
    {
     "data": {
      "text/plain": [
       "13"
      ]
     },
     "execution_count": 79,
     "metadata": {},
     "output_type": "execute_result"
    }
   ],
   "source": [
    "output.count()"
   ]
  },
  {
   "cell_type": "code",
   "execution_count": 80,
   "metadata": {},
   "outputs": [
    {
     "name": "stdout",
     "output_type": "stream",
     "text": [
      "root\n",
      " |-- Car Model: string (nullable = true)\n",
      " |-- Mileage: integer (nullable = true)\n",
      " |-- Sell Price($): integer (nullable = true)\n",
      " |-- Age(yrs): integer (nullable = true)\n",
      " |-- carInd: double (nullable = false)\n",
      " |-- carVec: vector (nullable = true)\n",
      " |-- features: vector (nullable = true)\n",
      " |-- prediction: double (nullable = false)\n",
      "\n"
     ]
    }
   ],
   "source": [
    "output.printSchema()"
   ]
  },
  {
   "cell_type": "code",
   "execution_count": 81,
   "metadata": {},
   "outputs": [],
   "source": [
    "output = output.select('Sell Price($)','features')"
   ]
  },
  {
   "cell_type": "code",
   "execution_count": 82,
   "metadata": {},
   "outputs": [
    {
     "data": {
      "text/plain": [
       "13"
      ]
     },
     "execution_count": 82,
     "metadata": {},
     "output_type": "execute_result"
    }
   ],
   "source": [
    "output.count()"
   ]
  },
  {
   "cell_type": "code",
   "execution_count": 83,
   "metadata": {},
   "outputs": [],
   "source": [
    "train_data_2,test_data_2 = output.randomSplit([0.7,0.3])"
   ]
  },
  {
   "cell_type": "code",
   "execution_count": 84,
   "metadata": {},
   "outputs": [
    {
     "data": {
      "text/plain": [
       "11"
      ]
     },
     "execution_count": 84,
     "metadata": {},
     "output_type": "execute_result"
    }
   ],
   "source": [
    "train_data_2.count()"
   ]
  },
  {
   "cell_type": "code",
   "execution_count": 85,
   "metadata": {},
   "outputs": [
    {
     "data": {
      "text/plain": [
       "2"
      ]
     },
     "execution_count": 85,
     "metadata": {},
     "output_type": "execute_result"
    }
   ],
   "source": [
    "test_data_2.count()"
   ]
  },
  {
   "cell_type": "code",
   "execution_count": 86,
   "metadata": {},
   "outputs": [],
   "source": [
    "#Creating a linear regression model object\n",
    "lr_2 = LinearRegression(labelCol='Sell Price($)', featuresCol='features')"
   ]
  },
  {
   "cell_type": "code",
   "execution_count": 87,
   "metadata": {},
   "outputs": [],
   "source": [
    "# Creating a linear regression model and fitting the training data to it\n",
    "lrModel = lr.fit(train_data_2)"
   ]
  },
  {
   "cell_type": "markdown",
   "metadata": {},
   "source": [
    "**Getting the training summary of the created model**"
   ]
  },
  {
   "cell_type": "code",
   "execution_count": 88,
   "metadata": {},
   "outputs": [],
   "source": [
    "training_summary = lrModel.summary"
   ]
  },
  {
   "cell_type": "code",
   "execution_count": 89,
   "metadata": {},
   "outputs": [
    {
     "name": "stdout",
     "output_type": "stream",
     "text": [
      "+------------------+\n",
      "|         residuals|\n",
      "+------------------+\n",
      "|146.67397260262806|\n",
      "|-358.8821917808309|\n",
      "|-2544.980821917001|\n",
      "+------------------+\n",
      "only showing top 3 rows\n",
      "\n"
     ]
    }
   ],
   "source": [
    "training_summary.residuals.show(3)"
   ]
  },
  {
   "cell_type": "code",
   "execution_count": 90,
   "metadata": {},
   "outputs": [
    {
     "name": "stdout",
     "output_type": "stream",
     "text": [
      "Mean Absolute Error:  1561.2234122041548\n",
      "Mean Squared Error:  3656182.665006235\n",
      "Root Mean Squared Error:  1912.1147102112454\n",
      "R Squared Error:  0.920978043364779\n"
     ]
    }
   ],
   "source": [
    "print(\"Mean Absolute Error: \",training_summary.meanAbsoluteError)\n",
    "print(\"Mean Squared Error: \",training_summary.meanSquaredError)\n",
    "print(\"Root Mean Squared Error: \",training_summary.rootMeanSquaredError)\n",
    "print(\"R Squared Error: \",training_summary.r2)"
   ]
  },
  {
   "cell_type": "markdown",
   "metadata": {},
   "source": [
    "**Evaluating the model against test data**"
   ]
  },
  {
   "cell_type": "code",
   "execution_count": 91,
   "metadata": {},
   "outputs": [],
   "source": [
    "# Evaluating the model against test data\n",
    "test_results_2 = lrModel.evaluate(test_data_2)"
   ]
  },
  {
   "cell_type": "code",
   "execution_count": 92,
   "metadata": {},
   "outputs": [
    {
     "name": "stdout",
     "output_type": "stream",
     "text": [
      "Coeffecients: [-0.380005479452284,-1385.7753424631144,-2501.4630136988053,-7127.578082191823], Intercept: 60021.49041095894\n"
     ]
    }
   ],
   "source": [
    "# Getting the co-effecients and intercept\n",
    "print('Coeffecients: {}, Intercept: {}'.format(lrModel.coefficients,lrModel.intercept))"
   ]
  },
  {
   "cell_type": "code",
   "execution_count": 93,
   "metadata": {},
   "outputs": [
    {
     "name": "stdout",
     "output_type": "stream",
     "text": [
      "+-------------------+\n",
      "|          residuals|\n",
      "+-------------------+\n",
      "| 1629.4410958904045|\n",
      "|-1572.2383561644965|\n",
      "+-------------------+\n",
      "\n"
     ]
    }
   ],
   "source": [
    "# Getting the residuals\n",
    "test_results_2.residuals.show(3)"
   ]
  },
  {
   "cell_type": "code",
   "execution_count": 94,
   "metadata": {},
   "outputs": [
    {
     "name": "stdout",
     "output_type": "stream",
     "text": [
      "Mean Absolute Error:  1600.8397260274505\n",
      "Mean Squared Error:  2563505.86678568\n",
      "Root Mean Squared Error:  1601.0952085324845\n",
      "R Squared Error:  0.8580757997627305\n"
     ]
    }
   ],
   "source": [
    "# Evaluating the model by checking the different types of error\n",
    "\n",
    "print(\"Mean Absolute Error: \",test_results_2.meanAbsoluteError)\n",
    "print(\"Mean Squared Error: \",test_results_2.meanSquaredError)\n",
    "print(\"Root Mean Squared Error: \",test_results_2.rootMeanSquaredError)\n",
    "print(\"R Squared Error: \",test_results_2.r2)"
   ]
  },
  {
   "cell_type": "markdown",
   "metadata": {},
   "source": [
    "**Getting the predictions from the builted model without label column**"
   ]
  },
  {
   "cell_type": "code",
   "execution_count": 95,
   "metadata": {},
   "outputs": [],
   "source": [
    "unlabelled_data = test_data_2.select('features')"
   ]
  },
  {
   "cell_type": "code",
   "execution_count": 96,
   "metadata": {},
   "outputs": [],
   "source": [
    "predictions = lrModel.transform(unlabelled_data)"
   ]
  },
  {
   "cell_type": "code",
   "execution_count": 97,
   "metadata": {},
   "outputs": [
    {
     "name": "stdout",
     "output_type": "stream",
     "text": [
      "+--------------------+------------------+\n",
      "|            features|        prediction|\n",
      "+--------------------+------------------+\n",
      "|[46000.0,4.0,0.0,...|29870.558904109595|\n",
      "|[22500.0,2.0,0.0,...|  41572.2383561645|\n",
      "+--------------------+------------------+\n",
      "\n"
     ]
    }
   ],
   "source": [
    "predictions.show(5)"
   ]
  },
  {
   "cell_type": "code",
   "execution_count": null,
   "metadata": {},
   "outputs": [],
   "source": [
    "#Closing spark session\n",
    "spark.stop()"
   ]
  }
 ],
 "metadata": {
  "kernelspec": {
   "display_name": "Python 3",
   "language": "python",
   "name": "python3"
  },
  "language_info": {
   "codemirror_mode": {
    "name": "ipython",
    "version": 3
   },
   "file_extension": ".py",
   "mimetype": "text/x-python",
   "name": "python",
   "nbconvert_exporter": "python",
   "pygments_lexer": "ipython3",
   "version": "3.7.0"
  }
 },
 "nbformat": 4,
 "nbformat_minor": 2
}
